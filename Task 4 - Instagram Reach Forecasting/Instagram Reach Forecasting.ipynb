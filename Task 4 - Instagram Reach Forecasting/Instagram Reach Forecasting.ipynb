{
 "cells": [
  {
   "cell_type": "markdown",
   "id": "55bd3627",
   "metadata": {},
   "source": [
    "# Asterisc Technocrat\n",
    "\n",
    "## Task 4 - Instagram Reach Forecasting\n",
    "\n",
    "![Instagram Reach](Instagram.png)\n",
    "\n",
    "\n",
    "\n",
    "### Introduction\n",
    "\n",
    "In this task, I've successfully implemented the concept of Time Series Forecasting for forecasting the Instagram Reach using SARIMAX (Seasonal Auto-Regressive Integrated Moving Average with Exogenous variables) \n",
    "\n",
    "### Project Overflow\n",
    "- 1. Importing the dependencies - The required libraries and modules are imported \n",
    "- 2. Data Collection - The data is given in the task form, so we need to load it to a Pandas dataframe with proper encoding\n",
    "- 3. Exploratory Data Analysis - The dataframe is analysed for any missing values or outliers. Additionally, the relationship and trend between the variables using visualizations.\n",
    "- 4. Stationary test - For SARIMAX model to work efficiently, we test the data for the stationary check.\n",
    "- 5. Model Building - With the help of ACF and PACF Plots, we get the required parameters for training the SARIMAX Model\n",
    "- 6. Prediction & Visual Inspection - The model is then used to predict the next required days of Instagram reach. The predicted values are then visually analyzed in order to get a better perspective of the predictions.\n",
    "\n",
    "Now let us begin our project !"
   ]
  },
  {
   "cell_type": "markdown",
   "id": "cfa306aa",
   "metadata": {},
   "source": [
    "## 1. Importing the dependencies\n",
    "\n",
    "The required libraries and tools are imported for working with the project"
   ]
  },
  {
   "cell_type": "code",
   "execution_count": 1,
   "id": "40a1d3f7",
   "metadata": {},
   "outputs": [],
   "source": [
    "import numpy as np\n",
    "import pandas as pd\n",
    "import seaborn as sns\n",
    "import matplotlib.pyplot as plt\n",
    "import plotly.graph_objects as go\n",
    "import plotly.io as pio\n",
    "import plotly.express as px\n",
    "import kaleido.scopes.plotly\n",
    "import plotly.offline as pyo\n",
    "from kaleido.scopes.plotly import PlotlyScope\n",
    "pio.templates.default = 'ggplot2'"
   ]
  },
  {
   "cell_type": "markdown",
   "id": "8d49d9d9",
   "metadata": {},
   "source": [
    "## 2. Data Collection\n",
    "\n",
    "The csv dataset named 'Instagram-Reach.csv' is loaded into the dataframe named 'df'"
   ]
  },
  {
   "cell_type": "code",
   "execution_count": 2,
   "id": "d9b6ae4c",
   "metadata": {},
   "outputs": [],
   "source": [
    "df = pd.read_csv('Instagram-Reach.csv', encoding = 'latin-1')"
   ]
  },
  {
   "cell_type": "code",
   "execution_count": 3,
   "id": "a2db5daf",
   "metadata": {},
   "outputs": [
    {
     "data": {
      "text/html": [
       "<div>\n",
       "<style scoped>\n",
       "    .dataframe tbody tr th:only-of-type {\n",
       "        vertical-align: middle;\n",
       "    }\n",
       "\n",
       "    .dataframe tbody tr th {\n",
       "        vertical-align: top;\n",
       "    }\n",
       "\n",
       "    .dataframe thead th {\n",
       "        text-align: right;\n",
       "    }\n",
       "</style>\n",
       "<table border=\"1\" class=\"dataframe\">\n",
       "  <thead>\n",
       "    <tr style=\"text-align: right;\">\n",
       "      <th></th>\n",
       "      <th>Date</th>\n",
       "      <th>Instagram reach</th>\n",
       "    </tr>\n",
       "  </thead>\n",
       "  <tbody>\n",
       "    <tr>\n",
       "      <th>0</th>\n",
       "      <td>2022-04-01T00:00:00</td>\n",
       "      <td>7620</td>\n",
       "    </tr>\n",
       "    <tr>\n",
       "      <th>1</th>\n",
       "      <td>2022-04-02T00:00:00</td>\n",
       "      <td>12859</td>\n",
       "    </tr>\n",
       "    <tr>\n",
       "      <th>2</th>\n",
       "      <td>2022-04-03T00:00:00</td>\n",
       "      <td>16008</td>\n",
       "    </tr>\n",
       "    <tr>\n",
       "      <th>3</th>\n",
       "      <td>2022-04-04T00:00:00</td>\n",
       "      <td>24349</td>\n",
       "    </tr>\n",
       "    <tr>\n",
       "      <th>4</th>\n",
       "      <td>2022-04-05T00:00:00</td>\n",
       "      <td>20532</td>\n",
       "    </tr>\n",
       "  </tbody>\n",
       "</table>\n",
       "</div>"
      ],
      "text/plain": [
       "                  Date  Instagram reach\n",
       "0  2022-04-01T00:00:00             7620\n",
       "1  2022-04-02T00:00:00            12859\n",
       "2  2022-04-03T00:00:00            16008\n",
       "3  2022-04-04T00:00:00            24349\n",
       "4  2022-04-05T00:00:00            20532"
      ]
     },
     "execution_count": 3,
     "metadata": {},
     "output_type": "execute_result"
    }
   ],
   "source": [
    "df.head()"
   ]
  },
  {
   "cell_type": "markdown",
   "id": "f519e5f1",
   "metadata": {},
   "source": [
    "## 3. Exploratory Data Analysis\n",
    "\n",
    "The loaded dataset is analysed for any missing values or any outliers. Additionally, some effective visualizations have been performed to get the understanding of the model."
   ]
  },
  {
   "cell_type": "code",
   "execution_count": 4,
   "id": "3d537fc2",
   "metadata": {},
   "outputs": [
    {
     "data": {
      "text/plain": [
       "Date               0\n",
       "Instagram reach    0\n",
       "dtype: int64"
      ]
     },
     "execution_count": 4,
     "metadata": {},
     "output_type": "execute_result"
    }
   ],
   "source": [
    "df.isnull().sum()"
   ]
  },
  {
   "cell_type": "markdown",
   "id": "39292ba1",
   "metadata": {},
   "source": [
    "Here, the date column has been converted from object datatype to datetime datatype"
   ]
  },
  {
   "cell_type": "code",
   "execution_count": 5,
   "id": "369da8ad",
   "metadata": {},
   "outputs": [],
   "source": [
    "df['Date'] = pd.to_datetime(df['Date'])"
   ]
  },
  {
   "cell_type": "markdown",
   "id": "d8eee5fc",
   "metadata": {},
   "source": [
    "**Visualizations**"
   ]
  },
  {
   "cell_type": "code",
   "execution_count": 8,
   "id": "1784cecb",
   "metadata": {},
   "outputs": [],
   "source": [
    "fig = go.Figure()\n",
    "fig.add_trace(go.Scatter(x=df['Date'], \n",
    "                         y=df['Instagram reach'], \n",
    "                         mode='lines', name='Instagram reach'))\n",
    "fig.update_layout(title='Instagram Reach Trend', xaxis_title='Date', \n",
    "                  yaxis_title='Instagram Reach')\n",
    "# Set the mathjax configuration to None\n",
    "kaleido_scope = kaleido.scopes.plotly.PlotlyScope(mathjax=None)\n",
    "\n",
    "# Save the plot as an image\n",
    "pio.write_image(fig, \"plot1.png\", engine = \"kaleido\")"
   ]
  },
  {
   "cell_type": "markdown",
   "id": "394dd9b9",
   "metadata": {},
   "source": [
    "![Plot](plot1.png)"
   ]
  },
  {
   "cell_type": "code",
   "execution_count": 9,
   "id": "d213f043",
   "metadata": {},
   "outputs": [],
   "source": [
    "fig = go.Figure()\n",
    "fig.add_trace(go.Bar(x=df['Date'], \n",
    "                     y=df['Instagram reach'], \n",
    "                     name='Instagram reach'))\n",
    "fig.update_layout(title='Instagram Reach by Day', \n",
    "                  xaxis_title='Date', \n",
    "                  yaxis_title='Instagram Reach')\n",
    "# fig.show()\n",
    "# Set the mathjax configuration to None\n",
    "kaleido_scope = kaleido.scopes.plotly.PlotlyScope(mathjax=None)\n",
    "\n",
    "# Save the plot as an image\n",
    "pio.write_image(fig, \"plot2.png\", engine = \"kaleido\")"
   ]
  },
  {
   "cell_type": "markdown",
   "id": "2e54cbcd",
   "metadata": {},
   "source": [
    "![Plot](plot2.png)"
   ]
  },
  {
   "cell_type": "code",
   "execution_count": 10,
   "id": "f957804a",
   "metadata": {},
   "outputs": [],
   "source": [
    "fig = go.Figure()\n",
    "fig.add_trace(go.Box(y = df['Instagram reach'], name = 'Box Plot'))\n",
    "fig.update_layout(title = 'Instagram Reach Distribution', xaxis_title = 'Date', yaxis_title = 'Instagram Reach')\n",
    "# fig.show()\n",
    "# Set the mathjax configuration to None\n",
    "kaleido_scope = kaleido.scopes.plotly.PlotlyScope(mathjax=None)\n",
    "\n",
    "# Save the plot as an image\n",
    "pio.write_image(fig, \"plot3.png\", engine = \"kaleido\")"
   ]
  },
  {
   "cell_type": "markdown",
   "id": "4e57587a",
   "metadata": {},
   "source": [
    "![Plot](plot3.png)\n"
   ]
  },
  {
   "cell_type": "code",
   "execution_count": 12,
   "id": "d81b1178",
   "metadata": {},
   "outputs": [],
   "source": [
    "df['Day'] = df['Date'].dt.day_name()"
   ]
  },
  {
   "cell_type": "code",
   "execution_count": 13,
   "id": "e7f451b6",
   "metadata": {},
   "outputs": [
    {
     "data": {
      "text/html": [
       "<div>\n",
       "<style scoped>\n",
       "    .dataframe tbody tr th:only-of-type {\n",
       "        vertical-align: middle;\n",
       "    }\n",
       "\n",
       "    .dataframe tbody tr th {\n",
       "        vertical-align: top;\n",
       "    }\n",
       "\n",
       "    .dataframe thead th {\n",
       "        text-align: right;\n",
       "    }\n",
       "</style>\n",
       "<table border=\"1\" class=\"dataframe\">\n",
       "  <thead>\n",
       "    <tr style=\"text-align: right;\">\n",
       "      <th></th>\n",
       "      <th>Date</th>\n",
       "      <th>Instagram reach</th>\n",
       "      <th>Day</th>\n",
       "    </tr>\n",
       "  </thead>\n",
       "  <tbody>\n",
       "    <tr>\n",
       "      <th>0</th>\n",
       "      <td>2022-04-01</td>\n",
       "      <td>7620</td>\n",
       "      <td>Friday</td>\n",
       "    </tr>\n",
       "    <tr>\n",
       "      <th>1</th>\n",
       "      <td>2022-04-02</td>\n",
       "      <td>12859</td>\n",
       "      <td>Saturday</td>\n",
       "    </tr>\n",
       "    <tr>\n",
       "      <th>2</th>\n",
       "      <td>2022-04-03</td>\n",
       "      <td>16008</td>\n",
       "      <td>Sunday</td>\n",
       "    </tr>\n",
       "    <tr>\n",
       "      <th>3</th>\n",
       "      <td>2022-04-04</td>\n",
       "      <td>24349</td>\n",
       "      <td>Monday</td>\n",
       "    </tr>\n",
       "    <tr>\n",
       "      <th>4</th>\n",
       "      <td>2022-04-05</td>\n",
       "      <td>20532</td>\n",
       "      <td>Tuesday</td>\n",
       "    </tr>\n",
       "  </tbody>\n",
       "</table>\n",
       "</div>"
      ],
      "text/plain": [
       "        Date  Instagram reach       Day\n",
       "0 2022-04-01             7620    Friday\n",
       "1 2022-04-02            12859  Saturday\n",
       "2 2022-04-03            16008    Sunday\n",
       "3 2022-04-04            24349    Monday\n",
       "4 2022-04-05            20532   Tuesday"
      ]
     },
     "execution_count": 13,
     "metadata": {},
     "output_type": "execute_result"
    }
   ],
   "source": [
    "df.head()"
   ]
  },
  {
   "cell_type": "code",
   "execution_count": 14,
   "id": "513017a5",
   "metadata": {},
   "outputs": [
    {
     "data": {
      "text/html": [
       "<div>\n",
       "<style scoped>\n",
       "    .dataframe tbody tr th:only-of-type {\n",
       "        vertical-align: middle;\n",
       "    }\n",
       "\n",
       "    .dataframe tbody tr th {\n",
       "        vertical-align: top;\n",
       "    }\n",
       "\n",
       "    .dataframe thead th {\n",
       "        text-align: right;\n",
       "    }\n",
       "</style>\n",
       "<table border=\"1\" class=\"dataframe\">\n",
       "  <thead>\n",
       "    <tr style=\"text-align: right;\">\n",
       "      <th></th>\n",
       "      <th>Day</th>\n",
       "      <th>mean</th>\n",
       "      <th>median</th>\n",
       "      <th>std</th>\n",
       "    </tr>\n",
       "  </thead>\n",
       "  <tbody>\n",
       "    <tr>\n",
       "      <th>0</th>\n",
       "      <td>Friday</td>\n",
       "      <td>46666.849057</td>\n",
       "      <td>35574.0</td>\n",
       "      <td>29856.943036</td>\n",
       "    </tr>\n",
       "    <tr>\n",
       "      <th>1</th>\n",
       "      <td>Monday</td>\n",
       "      <td>52621.692308</td>\n",
       "      <td>46853.0</td>\n",
       "      <td>32296.071347</td>\n",
       "    </tr>\n",
       "    <tr>\n",
       "      <th>2</th>\n",
       "      <td>Saturday</td>\n",
       "      <td>47374.750000</td>\n",
       "      <td>40012.0</td>\n",
       "      <td>27667.043634</td>\n",
       "    </tr>\n",
       "    <tr>\n",
       "      <th>3</th>\n",
       "      <td>Sunday</td>\n",
       "      <td>53114.173077</td>\n",
       "      <td>47797.0</td>\n",
       "      <td>30906.162384</td>\n",
       "    </tr>\n",
       "    <tr>\n",
       "      <th>4</th>\n",
       "      <td>Thursday</td>\n",
       "      <td>48570.923077</td>\n",
       "      <td>39150.0</td>\n",
       "      <td>28623.220625</td>\n",
       "    </tr>\n",
       "  </tbody>\n",
       "</table>\n",
       "</div>"
      ],
      "text/plain": [
       "        Day          mean   median           std\n",
       "0    Friday  46666.849057  35574.0  29856.943036\n",
       "1    Monday  52621.692308  46853.0  32296.071347\n",
       "2  Saturday  47374.750000  40012.0  27667.043634\n",
       "3    Sunday  53114.173077  47797.0  30906.162384\n",
       "4  Thursday  48570.923077  39150.0  28623.220625"
      ]
     },
     "execution_count": 14,
     "metadata": {},
     "output_type": "execute_result"
    }
   ],
   "source": [
    "day_stats = df.groupby('Day')['Instagram reach'].agg(['mean', 'median', 'std']).reset_index()\n",
    "day_stats.head()"
   ]
  },
  {
   "cell_type": "code",
   "execution_count": 15,
   "id": "31b74f77",
   "metadata": {},
   "outputs": [],
   "source": [
    "fig = go.Figure()\n",
    "\n",
    "fig.add_trace(go.Bar(x = day_stats['Day'], y = day_stats['mean'], name = 'Mean'))\n",
    "fig.add_trace(go.Bar(x = day_stats['Day'], y = day_stats['median'], name = 'Median'))\n",
    "fig.add_trace(go.Bar(x = day_stats['Day'], y = day_stats['std'], name = 'Standard Deviation'))\n",
    "fig.update_layout(title = 'Instagram Reach Analysis Day wise', xaxis_title = 'Day', yaxis_title = 'Instagram Reach')\n",
    "# fig.show()\n",
    "# Set the mathjax configuration to None\n",
    "kaleido_scope = kaleido.scopes.plotly.PlotlyScope(mathjax=None)\n",
    "\n",
    "# Save the plot as an image\n",
    "pio.write_image(fig, \"plot4.png\", engine = \"kaleido\")"
   ]
  },
  {
   "cell_type": "markdown",
   "id": "253b13b6",
   "metadata": {},
   "source": [
    "![Plot](plot4.png)"
   ]
  },
  {
   "cell_type": "markdown",
   "id": "71331a0a",
   "metadata": {},
   "source": [
    "Here, the maximum reach is observed during Tuesdays and Sundays"
   ]
  },
  {
   "cell_type": "markdown",
   "id": "66c7b7fa",
   "metadata": {},
   "source": [
    "## 4. Stationary Test\n",
    "\n",
    "In order to determine whether a time series is stationary or not, Augmented Dickey-Fuller test is used to do the following. \n",
    "It is used to examine the presence of a unit root, which indicates that the time series follows stochastic trend and is non-stationary. The stationarity is important in a time series analysis, which exhibits constant mean, median and std. On the contrary, those statistical parameters evolve around time, indicating it is seasonal. "
   ]
  },
  {
   "cell_type": "code",
   "execution_count": 16,
   "id": "cad35802",
   "metadata": {},
   "outputs": [],
   "source": [
    "from statsmodels.tsa.stattools import adfuller"
   ]
  },
  {
   "cell_type": "markdown",
   "id": "8dc4083b",
   "metadata": {},
   "source": [
    "The adfuller test checks for the stationarity by testing the presence of a unit root in the AR (Auto Regressive) model. Here, the unit root means that the AutoRegressive Coefficient is 1. If there is a unit root, it supposes that the data is non-stationary. This is achieved by the hypothesis testing, where the null hypothesis specifies that there is a presence of unit root in the AR model and hence non-stationarity. Whereas, the alternative hypothesis specifies that the AR model is non-stationary. With the help of z-statistic, the p-value is found, which determines the hypothesis."
   ]
  },
  {
   "cell_type": "code",
   "execution_count": 17,
   "id": "d84f37ea",
   "metadata": {},
   "outputs": [],
   "source": [
    "def adfuller_test(reach):\n",
    "    result = adfuller(reach)\n",
    "    labels = [\"ADF Test Statistic\", \"p-value\", \"#Lags used\", \"No of Observations used\"]\n",
    "    for i,j in zip(result, labels):\n",
    "        print(j, ':', i)\n",
    "    if(result[1] <= 0.05):\n",
    "        print('There is a strong evidence against the null hypotesis (n0). So it is rejected and it is stationary')\n",
    "    else:\n",
    "        print('There is a weak evidence against the null hypothesis (n0). So it has been accepted and the time series has a unit root, indicating it is non-stationary')"
   ]
  },
  {
   "cell_type": "code",
   "execution_count": 18,
   "id": "db9292d8",
   "metadata": {},
   "outputs": [
    {
     "name": "stdout",
     "output_type": "stream",
     "text": [
      "ADF Test Statistic : -4.800987374825308\n",
      "p-value : 5.414989602967882e-05\n",
      "#Lags used : 2\n",
      "No of Observations used : 362\n",
      "There is a strong evidence against the null hypotesis (n0). So it is rejected and it is stationary\n"
     ]
    }
   ],
   "source": [
    "adfuller_test(df['Instagram reach'])"
   ]
  },
  {
   "cell_type": "markdown",
   "id": "84c3586c",
   "metadata": {},
   "source": [
    "Let's analyze the trends and seasonal patterns of the Instagram reach"
   ]
  },
  {
   "cell_type": "code",
   "execution_count": 19,
   "id": "7fd6371b",
   "metadata": {},
   "outputs": [],
   "source": [
    "from plotly.tools import mpl_to_plotly\n",
    "from statsmodels.tsa.seasonal import seasonal_decompose"
   ]
  },
  {
   "cell_type": "code",
   "execution_count": 20,
   "id": "12b180e4",
   "metadata": {},
   "outputs": [
    {
     "data": {
      "text/plain": [
       "<Figure size 640x480 with 0 Axes>"
      ]
     },
     "metadata": {},
     "output_type": "display_data"
    }
   ],
   "source": [
    "result = seasonal_decompose(df['Instagram reach'], \n",
    "                            model='multiplicative', \n",
    "                            period=100)\n",
    "\n",
    "fig = plt.figure()\n",
    "fig = result.plot()\n",
    "\n",
    "fig = mpl_to_plotly(fig)\n",
    "# fig.show()\n",
    "# Set the mathjax configuration to None\n",
    "kaleido_scope = kaleido.scopes.plotly.PlotlyScope(mathjax=None)\n",
    "\n",
    "# Save the plot as an image\n",
    "pio.write_image(fig, \"plot5.png\", engine = \"kaleido\")"
   ]
  },
  {
   "cell_type": "markdown",
   "id": "8c772966",
   "metadata": {},
   "source": [
    "![Plot](plot5.png)"
   ]
  },
  {
   "cell_type": "markdown",
   "id": "7bbf56cb",
   "metadata": {},
   "source": [
    "It shows seasonal pattern, so we can use SARIMAX model to predict the reach of the Instagram account. We need to find the values of p,d and q, in order to do so."
   ]
  },
  {
   "attachments": {
    "download.png": {
     "image/png": "[encoded data removed]"
    }
   },
   "cell_type": "markdown",
   "id": "c7bdfe5d",
   "metadata": {},
   "source": [
    "To find the value of p, we can use partial autocorrelation plot and to find q we can use autocorrelation plot\n",
    "![download.png](attachment:download.png)\n",
    "\n",
    "#### Autocorrelation and Partial Autocorrelation\n",
    "- Identification of an AR model is often best done with the PACF.\n",
    "   - For an AR model, the theoretical PACF “shuts off” past the order of the model. The phrase “shuts off” means that in theory the partial autocorrelations are equal to 0 beyond that point. Put another way, the number of non-zero partial autocorrelations gives the order of the AR model. By the “order of the model” we mean the most extreme lag of x that is used as a predictor.\n",
    "- Identification of an MA model is often best done with the ACF rather than the PACF.\n",
    "  - For an MA model, the theoretical ACF does not shut off, but instead tapers toward 0 in some manner. A clearer pattern for an MA model is in the ACF. The ACF will have non-zero autocorrelations only at lags involved in the model.\n",
    "  \n",
    "p = AR model lags \n",
    "d = differencing \n",
    "q = MA lags"
   ]
  },
  {
   "cell_type": "code",
   "execution_count": 20,
   "id": "9f0d074e",
   "metadata": {},
   "outputs": [
    {
     "data": {
      "image/png": "[encoded data removed]",
      "text/plain": [
       "<Figure size 1000x800 with 2 Axes>"
      ]
     },
     "metadata": {},
     "output_type": "display_data"
    }
   ],
   "source": [
    "from statsmodels.graphics.tsaplots import plot_acf, plot_pacf\n",
    "\n",
    "fig = plt.figure(figsize=(10, 8))\n",
    "\n",
    "ax1 = fig.add_subplot(211)\n",
    "plot_acf(df['Instagram reach'], lags=100, ax=ax1)\n",
    "\n",
    "ax2 = fig.add_subplot(212)\n",
    "plot_pacf(df['Instagram reach'], lags=100, ax=ax2)\n",
    "\n",
    "plt.show()"
   ]
  },
  {
   "cell_type": "markdown",
   "id": "cc5f9692",
   "metadata": {},
   "source": [
    "## 5. Model Training\n",
    "\n",
    "The SARIMAX model is a time series model that combines the seasonal autoregressive integrated moving average (SARIMA) model with exogenous variables. It is a powerful and flexible model that can handle time series data with both seasonal and non-seasonal components, as well as incorporate the influence of external factors.\n",
    "\n",
    "The SARIMA model includes additional parameters to capture the seasonal patterns in the data. It takes into account the seasonal autoregressive (SAR), seasonal difference (I), and seasonal moving average (MA) components.\n",
    "\n",
    "The SARIMAX has been trained with the values of p, d and q appropriately that has been found from analysing the ACF and PACF plots."
   ]
  },
  {
   "cell_type": "code",
   "execution_count": 21,
   "id": "e1efa8b8",
   "metadata": {},
   "outputs": [
    {
     "name": "stdout",
     "output_type": "stream",
     "text": [
      "                                     SARIMAX Results                                      \n",
      "==========================================================================================\n",
      "Dep. Variable:                    Instagram reach   No. Observations:                  365\n",
      "Model:             SARIMAX(5, 1, 2)x(5, 1, 2, 12)   Log Likelihood               -3938.017\n",
      "Date:                            Sun, 09 Jul 2023   AIC                           7906.034\n",
      "Time:                                    17:32:58   BIC                           7963.988\n",
      "Sample:                                         0   HQIC                          7929.097\n",
      "                                            - 365                                         \n",
      "Covariance Type:                              opg                                         \n",
      "==============================================================================\n",
      "                 coef    std err          z      P>|z|      [0.025      0.975]\n",
      "------------------------------------------------------------------------------\n",
      "ar.L1          0.1102      1.746      0.063      0.950      -3.312       3.533\n",
      "ar.L2          0.5232      1.588      0.329      0.742      -2.590       3.636\n",
      "ar.L3         -0.1275      0.356     -0.358      0.721      -0.826       0.571\n",
      "ar.L4          0.0535      0.103      0.520      0.603      -0.148       0.255\n",
      "ar.L5         -0.0031      0.144     -0.022      0.983      -0.285       0.278\n",
      "ma.L1         -0.1536      1.741     -0.088      0.930      -3.565       3.258\n",
      "ma.L2         -0.7581      1.652     -0.459      0.646      -3.996       2.480\n",
      "ar.S.L12      -0.6701     50.890     -0.013      0.989    -100.413      99.072\n",
      "ar.S.L24      -0.0339      1.212     -0.028      0.978      -2.410       2.342\n",
      "ar.S.L36       0.0130      0.878      0.015      0.988      -1.708       1.734\n",
      "ar.S.L48       0.0934      1.339      0.070      0.944      -2.532       2.719\n",
      "ar.S.L60       0.0488      4.046      0.012      0.990      -7.881       7.978\n",
      "ma.S.L12      -0.2267     50.869     -0.004      0.996     -99.929      99.476\n",
      "ma.S.L24      -0.5627     44.469     -0.013      0.990     -87.721      86.596\n",
      "sigma2      4.845e+08   8.66e-06    5.6e+13      0.000    4.85e+08    4.85e+08\n",
      "===================================================================================\n",
      "Ljung-Box (L1) (Q):                   0.01   Jarque-Bera (JB):               208.38\n",
      "Prob(Q):                              0.91   Prob(JB):                         0.00\n",
      "Heteroskedasticity (H):               0.73   Skew:                             0.30\n",
      "Prob(H) (two-sided):                  0.09   Kurtosis:                         6.72\n",
      "===================================================================================\n",
      "\n",
      "Warnings:\n",
      "[1] Covariance matrix calculated using the outer product of gradients (complex-step).\n",
      "[2] Covariance matrix is singular or near-singular, with condition number 5.26e+30. Standard errors may be unstable.\n"
     ]
    }
   ],
   "source": [
    "p, d, q = 5, 1, 2\n",
    "import statsmodels.api as sm\n",
    "import warnings\n",
    "model = sm.tsa.statespace.SARIMAX(df['Instagram reach'], order = (p,d,q), seasonal_order = (p,d,q,12))\n",
    "model = model.fit()\n",
    "print(model.summary())"
   ]
  },
  {
   "cell_type": "markdown",
   "id": "50145af2",
   "metadata": {},
   "source": [
    "## 6. Prediction and Visual Inspection\n",
    "\n",
    "Now, the trained SARIMAX model is utilized for predicting the next 50 values. And then they are visualized along with the original dataset to compare the reach accuracy and continuity."
   ]
  },
  {
   "cell_type": "code",
   "execution_count": 22,
   "id": "1cb66a7d",
   "metadata": {},
   "outputs": [],
   "source": [
    "pred = model.predict(len(df)-50, len(df) + 50)\n",
    "fig = go.Figure()\n",
    "fig.add_trace(go.Scatter(x = df.index, y = df['Instagram reach'], mode = 'lines', name = 'Instagram Reach'))\n",
    "fig.add_trace(go.Scatter(x = pred.index, y = pred, mode = 'lines', name = 'Predictions'))\n",
    "fig.update_layout(title = 'Instagram reach Predictions', xaxis_title = 'Date', yaxis_title = 'Reach')\n",
    "# Set the mathjax configuration to None\n",
    "kaleido_scope = kaleido.scopes.plotly.PlotlyScope(mathjax=None)\n",
    "\n",
    "# Save the plot as an image\n",
    "pio.write_image(fig, \"plot6.png\", engine = \"kaleido\")"
   ]
  },
  {
   "cell_type": "markdown",
   "id": "16cae6ff",
   "metadata": {},
   "source": [
    "![Plot](plot6.png)"
   ]
  },
  {
   "cell_type": "markdown",
   "id": "6d06b82a",
   "metadata": {},
   "source": [
    "## The END"
   ]
  }
 ],
 "metadata": {
  "kernelspec": {
   "display_name": "Python 3 (ipykernel)",
   "language": "python",
   "name": "python3"
  },
  "language_info": {
   "codemirror_mode": {
    "name": "ipython",
    "version": 3
   },
   "file_extension": ".py",
   "mimetype": "text/x-python",
   "name": "python",
   "nbconvert_exporter": "python",
   "pygments_lexer": "ipython3",
   "version": "3.11.4"
  }
 },
 "nbformat": 4,
 "nbformat_minor": 5
}
