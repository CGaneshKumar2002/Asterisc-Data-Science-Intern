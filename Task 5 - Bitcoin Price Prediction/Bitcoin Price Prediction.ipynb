{
 "cells": [
  {
   "cell_type": "markdown",
   "id": "28419175",
   "metadata": {},
   "source": [
    "# Asterisc Technocrat\n",
    "\n",
    "## Task 5 - Bitcoin Price Prediction\n",
    "\n",
    "![Bitcoin Price](Bitcoin.jpg)\n",
    "\n",
    "\n",
    "\n",
    "### Introduction\n",
    "\n",
    "In this task, I've successfully implemented the concept of Time Series Forecasting for predicting the Bitcoin Prices using ARIMA (Auto-Regressive Integrated Moving Average) Model \n",
    "\n",
    "### Project Overflow\n",
    "- 1. Importing the dependencies - The required libraries and modules are imported \n",
    "- 2. Data Collection - The data is web scraped using yfinance library, so we need to load it to a Pandas dataframe\n",
    "- 3. Exploratory Data Analysis - The dataframe is analysed for any missing values or outliers. Additionally, the relationship and trend between the variables using visualizations. The seasonal test is also analysed.\n",
    "- 4. Model Building - With the help of ACF and PACF Plots, we get the required parameters for training the ARIMA Model\n",
    "- 5. Prediction & Visual Inspection - The model is then used to predict the next required days of Bitcoin Prices. The predicted values are then visually analyzed in order to get a better perspective of the predictions.\n",
    "\n",
    "Now let us begin our project !"
   ]
  },
  {
   "cell_type": "markdown",
   "id": "e8e2ed29",
   "metadata": {},
   "source": [
    "## 1. Importing the dependencies\n",
    "\n",
    "The required libraries and tools are imported for working with the project"
   ]
  },
  {
   "cell_type": "code",
   "execution_count": 1,
   "id": "7110f7b2",
   "metadata": {},
   "outputs": [],
   "source": [
    "import yfinance as yf\n",
    "import numpy as np\n",
    "import pandas as pd\n",
    "import matplotlib.pyplot as plt\n",
    "import seaborn as sns\n",
    "import plotly.graph_objects as go\n",
    "import plotly.io as pio\n",
    "import plotly.express as px\n",
    "import kaleido.scopes.plotly\n",
    "import plotly.offline as pyo\n",
    "from kaleido.scopes.plotly import PlotlyScope"
   ]
  },
  {
   "cell_type": "markdown",
   "id": "a578bae3",
   "metadata": {},
   "source": [
    "## 2. Data Collection\n",
    "\n",
    "The required data is web scraped using yfinance api and it is stored into a dataframe named 'df'"
   ]
  },
  {
   "cell_type": "code",
   "execution_count": 2,
   "id": "c111dc5c",
   "metadata": {},
   "outputs": [
    {
     "name": "stdout",
     "output_type": "stream",
     "text": [
      "[*********************100%***********************]  1 of 1 completed\n"
     ]
    },
    {
     "data": {
      "text/html": [
       "<div>\n",
       "<style scoped>\n",
       "    .dataframe tbody tr th:only-of-type {\n",
       "        vertical-align: middle;\n",
       "    }\n",
       "\n",
       "    .dataframe tbody tr th {\n",
       "        vertical-align: top;\n",
       "    }\n",
       "\n",
       "    .dataframe thead th {\n",
       "        text-align: right;\n",
       "    }\n",
       "</style>\n",
       "<table border=\"1\" class=\"dataframe\">\n",
       "  <thead>\n",
       "    <tr style=\"text-align: right;\">\n",
       "      <th></th>\n",
       "      <th>Open</th>\n",
       "      <th>High</th>\n",
       "      <th>Low</th>\n",
       "      <th>Close</th>\n",
       "      <th>Adj Close</th>\n",
       "      <th>Volume</th>\n",
       "    </tr>\n",
       "    <tr>\n",
       "      <th>Date</th>\n",
       "      <th></th>\n",
       "      <th></th>\n",
       "      <th></th>\n",
       "      <th></th>\n",
       "      <th></th>\n",
       "      <th></th>\n",
       "    </tr>\n",
       "  </thead>\n",
       "  <tbody>\n",
       "    <tr>\n",
       "      <th>2014-09-17</th>\n",
       "      <td>465.864014</td>\n",
       "      <td>468.174011</td>\n",
       "      <td>452.421997</td>\n",
       "      <td>457.334015</td>\n",
       "      <td>457.334015</td>\n",
       "      <td>21056800</td>\n",
       "    </tr>\n",
       "    <tr>\n",
       "      <th>2014-09-18</th>\n",
       "      <td>456.859985</td>\n",
       "      <td>456.859985</td>\n",
       "      <td>413.104004</td>\n",
       "      <td>424.440002</td>\n",
       "      <td>424.440002</td>\n",
       "      <td>34483200</td>\n",
       "    </tr>\n",
       "    <tr>\n",
       "      <th>2014-09-19</th>\n",
       "      <td>424.102997</td>\n",
       "      <td>427.834991</td>\n",
       "      <td>384.532013</td>\n",
       "      <td>394.795990</td>\n",
       "      <td>394.795990</td>\n",
       "      <td>37919700</td>\n",
       "    </tr>\n",
       "    <tr>\n",
       "      <th>2014-09-20</th>\n",
       "      <td>394.673004</td>\n",
       "      <td>423.295990</td>\n",
       "      <td>389.882996</td>\n",
       "      <td>408.903992</td>\n",
       "      <td>408.903992</td>\n",
       "      <td>36863600</td>\n",
       "    </tr>\n",
       "    <tr>\n",
       "      <th>2014-09-21</th>\n",
       "      <td>408.084991</td>\n",
       "      <td>412.425995</td>\n",
       "      <td>393.181000</td>\n",
       "      <td>398.821014</td>\n",
       "      <td>398.821014</td>\n",
       "      <td>26580100</td>\n",
       "    </tr>\n",
       "  </tbody>\n",
       "</table>\n",
       "</div>"
      ],
      "text/plain": [
       "                  Open        High         Low       Close   Adj Close  \\\n",
       "Date                                                                     \n",
       "2014-09-17  465.864014  468.174011  452.421997  457.334015  457.334015   \n",
       "2014-09-18  456.859985  456.859985  413.104004  424.440002  424.440002   \n",
       "2014-09-19  424.102997  427.834991  384.532013  394.795990  394.795990   \n",
       "2014-09-20  394.673004  423.295990  389.882996  408.903992  408.903992   \n",
       "2014-09-21  408.084991  412.425995  393.181000  398.821014  398.821014   \n",
       "\n",
       "              Volume  \n",
       "Date                  \n",
       "2014-09-17  21056800  \n",
       "2014-09-18  34483200  \n",
       "2014-09-19  37919700  \n",
       "2014-09-20  36863600  \n",
       "2014-09-21  26580100  "
      ]
     },
     "execution_count": 2,
     "metadata": {},
     "output_type": "execute_result"
    }
   ],
   "source": [
    "df = yf.download('BTC-USD')\n",
    "df.head()"
   ]
  },
  {
   "cell_type": "markdown",
   "id": "2f2e99ca",
   "metadata": {},
   "source": [
    "## 3. Exploratory Data Analysis\n",
    "\n",
    "The loaded dataset is analysed for any missing values or any outliers. Additionally, some effective visualizations have been performed to get the understanding of the model."
   ]
  },
  {
   "cell_type": "code",
   "execution_count": 3,
   "id": "ffd47e17",
   "metadata": {},
   "outputs": [
    {
     "data": {
      "text/plain": [
       "Open         0\n",
       "High         0\n",
       "Low          0\n",
       "Close        0\n",
       "Adj Close    0\n",
       "Volume       0\n",
       "dtype: int64"
      ]
     },
     "execution_count": 3,
     "metadata": {},
     "output_type": "execute_result"
    }
   ],
   "source": [
    "df.isnull().sum()"
   ]
  },
  {
   "cell_type": "code",
   "execution_count": 4,
   "id": "7972177e",
   "metadata": {},
   "outputs": [
    {
     "name": "stdout",
     "output_type": "stream",
     "text": [
      "<class 'pandas.core.frame.DataFrame'>\n",
      "DatetimeIndex: 3224 entries, 2014-09-17 to 2023-07-15\n",
      "Data columns (total 6 columns):\n",
      " #   Column     Non-Null Count  Dtype  \n",
      "---  ------     --------------  -----  \n",
      " 0   Open       3224 non-null   float64\n",
      " 1   High       3224 non-null   float64\n",
      " 2   Low        3224 non-null   float64\n",
      " 3   Close      3224 non-null   float64\n",
      " 4   Adj Close  3224 non-null   float64\n",
      " 5   Volume     3224 non-null   int64  \n",
      "dtypes: float64(5), int64(1)\n",
      "memory usage: 176.3 KB\n"
     ]
    }
   ],
   "source": [
    "df.info()"
   ]
  },
  {
   "cell_type": "code",
   "execution_count": 5,
   "id": "5b1bd056",
   "metadata": {},
   "outputs": [
    {
     "data": {
      "text/html": [
       "<div>\n",
       "<style scoped>\n",
       "    .dataframe tbody tr th:only-of-type {\n",
       "        vertical-align: middle;\n",
       "    }\n",
       "\n",
       "    .dataframe tbody tr th {\n",
       "        vertical-align: top;\n",
       "    }\n",
       "\n",
       "    .dataframe thead th {\n",
       "        text-align: right;\n",
       "    }\n",
       "</style>\n",
       "<table border=\"1\" class=\"dataframe\">\n",
       "  <thead>\n",
       "    <tr style=\"text-align: right;\">\n",
       "      <th></th>\n",
       "      <th>Open</th>\n",
       "      <th>High</th>\n",
       "      <th>Low</th>\n",
       "      <th>Close</th>\n",
       "      <th>Adj Close</th>\n",
       "      <th>Volume</th>\n",
       "    </tr>\n",
       "  </thead>\n",
       "  <tbody>\n",
       "    <tr>\n",
       "      <th>count</th>\n",
       "      <td>3224.000000</td>\n",
       "      <td>3224.000000</td>\n",
       "      <td>3224.000000</td>\n",
       "      <td>3224.000000</td>\n",
       "      <td>3224.000000</td>\n",
       "      <td>3.224000e+03</td>\n",
       "    </tr>\n",
       "    <tr>\n",
       "      <th>mean</th>\n",
       "      <td>13644.261923</td>\n",
       "      <td>13977.485970</td>\n",
       "      <td>13280.243034</td>\n",
       "      <td>13652.178623</td>\n",
       "      <td>13652.178623</td>\n",
       "      <td>1.657473e+10</td>\n",
       "    </tr>\n",
       "    <tr>\n",
       "      <th>std</th>\n",
       "      <td>16017.396953</td>\n",
       "      <td>16418.255839</td>\n",
       "      <td>15560.392060</td>\n",
       "      <td>16015.223675</td>\n",
       "      <td>16015.223675</td>\n",
       "      <td>1.950148e+10</td>\n",
       "    </tr>\n",
       "    <tr>\n",
       "      <th>min</th>\n",
       "      <td>176.897003</td>\n",
       "      <td>211.731003</td>\n",
       "      <td>171.509995</td>\n",
       "      <td>178.102997</td>\n",
       "      <td>178.102997</td>\n",
       "      <td>5.914570e+06</td>\n",
       "    </tr>\n",
       "    <tr>\n",
       "      <th>25%</th>\n",
       "      <td>758.426224</td>\n",
       "      <td>772.986771</td>\n",
       "      <td>745.941513</td>\n",
       "      <td>762.510757</td>\n",
       "      <td>762.510757</td>\n",
       "      <td>1.303335e+08</td>\n",
       "    </tr>\n",
       "    <tr>\n",
       "      <th>50%</th>\n",
       "      <td>7678.343994</td>\n",
       "      <td>7892.110107</td>\n",
       "      <td>7503.479980</td>\n",
       "      <td>7679.966797</td>\n",
       "      <td>7679.966797</td>\n",
       "      <td>1.019161e+10</td>\n",
       "    </tr>\n",
       "    <tr>\n",
       "      <th>75%</th>\n",
       "      <td>20229.587402</td>\n",
       "      <td>20694.111816</td>\n",
       "      <td>19829.653320</td>\n",
       "      <td>20265.173340</td>\n",
       "      <td>20265.173340</td>\n",
       "      <td>2.744515e+10</td>\n",
       "    </tr>\n",
       "    <tr>\n",
       "      <th>max</th>\n",
       "      <td>67549.734375</td>\n",
       "      <td>68789.625000</td>\n",
       "      <td>66382.062500</td>\n",
       "      <td>67566.828125</td>\n",
       "      <td>67566.828125</td>\n",
       "      <td>3.509679e+11</td>\n",
       "    </tr>\n",
       "  </tbody>\n",
       "</table>\n",
       "</div>"
      ],
      "text/plain": [
       "               Open          High           Low         Close     Adj Close  \\\n",
       "count   3224.000000   3224.000000   3224.000000   3224.000000   3224.000000   \n",
       "mean   13644.261923  13977.485970  13280.243034  13652.178623  13652.178623   \n",
       "std    16017.396953  16418.255839  15560.392060  16015.223675  16015.223675   \n",
       "min      176.897003    211.731003    171.509995    178.102997    178.102997   \n",
       "25%      758.426224    772.986771    745.941513    762.510757    762.510757   \n",
       "50%     7678.343994   7892.110107   7503.479980   7679.966797   7679.966797   \n",
       "75%    20229.587402  20694.111816  19829.653320  20265.173340  20265.173340   \n",
       "max    67549.734375  68789.625000  66382.062500  67566.828125  67566.828125   \n",
       "\n",
       "             Volume  \n",
       "count  3.224000e+03  \n",
       "mean   1.657473e+10  \n",
       "std    1.950148e+10  \n",
       "min    5.914570e+06  \n",
       "25%    1.303335e+08  \n",
       "50%    1.019161e+10  \n",
       "75%    2.744515e+10  \n",
       "max    3.509679e+11  "
      ]
     },
     "execution_count": 5,
     "metadata": {},
     "output_type": "execute_result"
    }
   ],
   "source": [
    "df.describe()"
   ]
  },
  {
   "cell_type": "code",
   "execution_count": 6,
   "id": "a3adf1f5",
   "metadata": {},
   "outputs": [],
   "source": [
    "df.reset_index(inplace = True)"
   ]
  },
  {
   "cell_type": "code",
   "execution_count": 7,
   "id": "40b88d8f",
   "metadata": {},
   "outputs": [
    {
     "data": {
      "text/plain": [
       "dtype('<M8[ns]')"
      ]
     },
     "execution_count": 7,
     "metadata": {},
     "output_type": "execute_result"
    }
   ],
   "source": [
    "df['Date'].dtype"
   ]
  },
  {
   "cell_type": "markdown",
   "id": "d19efdd6",
   "metadata": {},
   "source": [
    "**Visualizations**"
   ]
  },
  {
   "cell_type": "code",
   "execution_count": 8,
   "id": "66c6b02f",
   "metadata": {},
   "outputs": [
    {
     "data": {
      "text/plain": [
       "Text(0.5, 1.0, 'Bitcoin Price Distribution')"
      ]
     },
     "execution_count": 8,
     "metadata": {},
     "output_type": "execute_result"
    },
    {
     "data": {
      "image/png": "[encoded data removed]",
      "text/plain": [
       "<Figure size 1200x800 with 1 Axes>"
      ]
     },
     "metadata": {},
     "output_type": "display_data"
    }
   ],
   "source": [
    "plt.figure(figsize = (12,8))\n",
    "plt.plot(df['Date'], df['Close'])\n",
    "plt.xlabel('Date')\n",
    "plt.ylabel('Bitcoin Price')\n",
    "plt.title('Bitcoin Price Distribution')"
   ]
  },
  {
   "cell_type": "code",
   "execution_count": 9,
   "id": "d596d32f",
   "metadata": {},
   "outputs": [
    {
     "data": {
      "text/plain": [
       "Text(0.5, 1.0, 'Bitcoin Price Distribution')"
      ]
     },
     "execution_count": 9,
     "metadata": {},
     "output_type": "execute_result"
    },
    {
     "data": {
      "image/png": "[encoded data removed]",
      "text/plain": [
       "<Figure size 1200x800 with 1 Axes>"
      ]
     },
     "metadata": {},
     "output_type": "display_data"
    }
   ],
   "source": [
    "plt.figure(figsize = (12,8))\n",
    "plt.boxplot(df['Close'])\n",
    "plt.title('Bitcoin Price Distribution')"
   ]
  },
  {
   "cell_type": "code",
   "execution_count": 10,
   "id": "0466d369",
   "metadata": {},
   "outputs": [],
   "source": [
    "df['Day'] = df['Date'].dt.day_name()"
   ]
  },
  {
   "cell_type": "code",
   "execution_count": 11,
   "id": "2d465bec",
   "metadata": {},
   "outputs": [
    {
     "data": {
      "text/html": [
       "<div>\n",
       "<style scoped>\n",
       "    .dataframe tbody tr th:only-of-type {\n",
       "        vertical-align: middle;\n",
       "    }\n",
       "\n",
       "    .dataframe tbody tr th {\n",
       "        vertical-align: top;\n",
       "    }\n",
       "\n",
       "    .dataframe thead th {\n",
       "        text-align: right;\n",
       "    }\n",
       "</style>\n",
       "<table border=\"1\" class=\"dataframe\">\n",
       "  <thead>\n",
       "    <tr style=\"text-align: right;\">\n",
       "      <th></th>\n",
       "      <th>Date</th>\n",
       "      <th>Open</th>\n",
       "      <th>High</th>\n",
       "      <th>Low</th>\n",
       "      <th>Close</th>\n",
       "      <th>Adj Close</th>\n",
       "      <th>Volume</th>\n",
       "      <th>Day</th>\n",
       "    </tr>\n",
       "  </thead>\n",
       "  <tbody>\n",
       "    <tr>\n",
       "      <th>0</th>\n",
       "      <td>2014-09-17</td>\n",
       "      <td>465.864014</td>\n",
       "      <td>468.174011</td>\n",
       "      <td>452.421997</td>\n",
       "      <td>457.334015</td>\n",
       "      <td>457.334015</td>\n",
       "      <td>21056800</td>\n",
       "      <td>Wednesday</td>\n",
       "    </tr>\n",
       "    <tr>\n",
       "      <th>1</th>\n",
       "      <td>2014-09-18</td>\n",
       "      <td>456.859985</td>\n",
       "      <td>456.859985</td>\n",
       "      <td>413.104004</td>\n",
       "      <td>424.440002</td>\n",
       "      <td>424.440002</td>\n",
       "      <td>34483200</td>\n",
       "      <td>Thursday</td>\n",
       "    </tr>\n",
       "    <tr>\n",
       "      <th>2</th>\n",
       "      <td>2014-09-19</td>\n",
       "      <td>424.102997</td>\n",
       "      <td>427.834991</td>\n",
       "      <td>384.532013</td>\n",
       "      <td>394.795990</td>\n",
       "      <td>394.795990</td>\n",
       "      <td>37919700</td>\n",
       "      <td>Friday</td>\n",
       "    </tr>\n",
       "    <tr>\n",
       "      <th>3</th>\n",
       "      <td>2014-09-20</td>\n",
       "      <td>394.673004</td>\n",
       "      <td>423.295990</td>\n",
       "      <td>389.882996</td>\n",
       "      <td>408.903992</td>\n",
       "      <td>408.903992</td>\n",
       "      <td>36863600</td>\n",
       "      <td>Saturday</td>\n",
       "    </tr>\n",
       "    <tr>\n",
       "      <th>4</th>\n",
       "      <td>2014-09-21</td>\n",
       "      <td>408.084991</td>\n",
       "      <td>412.425995</td>\n",
       "      <td>393.181000</td>\n",
       "      <td>398.821014</td>\n",
       "      <td>398.821014</td>\n",
       "      <td>26580100</td>\n",
       "      <td>Sunday</td>\n",
       "    </tr>\n",
       "    <tr>\n",
       "      <th>...</th>\n",
       "      <td>...</td>\n",
       "      <td>...</td>\n",
       "      <td>...</td>\n",
       "      <td>...</td>\n",
       "      <td>...</td>\n",
       "      <td>...</td>\n",
       "      <td>...</td>\n",
       "      <td>...</td>\n",
       "    </tr>\n",
       "    <tr>\n",
       "      <th>3219</th>\n",
       "      <td>2023-07-11</td>\n",
       "      <td>30417.632812</td>\n",
       "      <td>30788.314453</td>\n",
       "      <td>30358.097656</td>\n",
       "      <td>30620.951172</td>\n",
       "      <td>30620.951172</td>\n",
       "      <td>12151839152</td>\n",
       "      <td>Tuesday</td>\n",
       "    </tr>\n",
       "    <tr>\n",
       "      <th>3220</th>\n",
       "      <td>2023-07-12</td>\n",
       "      <td>30622.246094</td>\n",
       "      <td>30959.964844</td>\n",
       "      <td>30228.835938</td>\n",
       "      <td>30391.646484</td>\n",
       "      <td>30391.646484</td>\n",
       "      <td>14805659717</td>\n",
       "      <td>Wednesday</td>\n",
       "    </tr>\n",
       "    <tr>\n",
       "      <th>3221</th>\n",
       "      <td>2023-07-13</td>\n",
       "      <td>30387.488281</td>\n",
       "      <td>31814.515625</td>\n",
       "      <td>30268.351562</td>\n",
       "      <td>31476.048828</td>\n",
       "      <td>31476.048828</td>\n",
       "      <td>23686079548</td>\n",
       "      <td>Thursday</td>\n",
       "    </tr>\n",
       "    <tr>\n",
       "      <th>3222</th>\n",
       "      <td>2023-07-14</td>\n",
       "      <td>31474.720703</td>\n",
       "      <td>31582.253906</td>\n",
       "      <td>29966.386719</td>\n",
       "      <td>30334.068359</td>\n",
       "      <td>30334.068359</td>\n",
       "      <td>20917902660</td>\n",
       "      <td>Friday</td>\n",
       "    </tr>\n",
       "    <tr>\n",
       "      <th>3223</th>\n",
       "      <td>2023-07-15</td>\n",
       "      <td>30311.388672</td>\n",
       "      <td>30386.562500</td>\n",
       "      <td>30274.068359</td>\n",
       "      <td>30311.033203</td>\n",
       "      <td>30311.033203</td>\n",
       "      <td>16281644032</td>\n",
       "      <td>Saturday</td>\n",
       "    </tr>\n",
       "  </tbody>\n",
       "</table>\n",
       "<p>3224 rows × 8 columns</p>\n",
       "</div>"
      ],
      "text/plain": [
       "           Date          Open          High           Low         Close  \\\n",
       "0    2014-09-17    465.864014    468.174011    452.421997    457.334015   \n",
       "1    2014-09-18    456.859985    456.859985    413.104004    424.440002   \n",
       "2    2014-09-19    424.102997    427.834991    384.532013    394.795990   \n",
       "3    2014-09-20    394.673004    423.295990    389.882996    408.903992   \n",
       "4    2014-09-21    408.084991    412.425995    393.181000    398.821014   \n",
       "...         ...           ...           ...           ...           ...   \n",
       "3219 2023-07-11  30417.632812  30788.314453  30358.097656  30620.951172   \n",
       "3220 2023-07-12  30622.246094  30959.964844  30228.835938  30391.646484   \n",
       "3221 2023-07-13  30387.488281  31814.515625  30268.351562  31476.048828   \n",
       "3222 2023-07-14  31474.720703  31582.253906  29966.386719  30334.068359   \n",
       "3223 2023-07-15  30311.388672  30386.562500  30274.068359  30311.033203   \n",
       "\n",
       "         Adj Close       Volume        Day  \n",
       "0       457.334015     21056800  Wednesday  \n",
       "1       424.440002     34483200   Thursday  \n",
       "2       394.795990     37919700     Friday  \n",
       "3       408.903992     36863600   Saturday  \n",
       "4       398.821014     26580100     Sunday  \n",
       "...            ...          ...        ...  \n",
       "3219  30620.951172  12151839152    Tuesday  \n",
       "3220  30391.646484  14805659717  Wednesday  \n",
       "3221  31476.048828  23686079548   Thursday  \n",
       "3222  30334.068359  20917902660     Friday  \n",
       "3223  30311.033203  16281644032   Saturday  \n",
       "\n",
       "[3224 rows x 8 columns]"
      ]
     },
     "execution_count": 11,
     "metadata": {},
     "output_type": "execute_result"
    }
   ],
   "source": [
    "df"
   ]
  },
  {
   "cell_type": "code",
   "execution_count": 12,
   "id": "5192f6ce",
   "metadata": {},
   "outputs": [],
   "source": [
    "data = df.drop(columns = ['Open', 'High', 'Low', 'Adj Close', 'Volume'])"
   ]
  },
  {
   "cell_type": "code",
   "execution_count": 13,
   "id": "06e46761",
   "metadata": {},
   "outputs": [
    {
     "data": {
      "text/html": [
       "<div>\n",
       "<style scoped>\n",
       "    .dataframe tbody tr th:only-of-type {\n",
       "        vertical-align: middle;\n",
       "    }\n",
       "\n",
       "    .dataframe tbody tr th {\n",
       "        vertical-align: top;\n",
       "    }\n",
       "\n",
       "    .dataframe thead th {\n",
       "        text-align: right;\n",
       "    }\n",
       "</style>\n",
       "<table border=\"1\" class=\"dataframe\">\n",
       "  <thead>\n",
       "    <tr style=\"text-align: right;\">\n",
       "      <th></th>\n",
       "      <th>Date</th>\n",
       "      <th>Close</th>\n",
       "      <th>Day</th>\n",
       "    </tr>\n",
       "  </thead>\n",
       "  <tbody>\n",
       "    <tr>\n",
       "      <th>3219</th>\n",
       "      <td>2023-07-11</td>\n",
       "      <td>30620.951172</td>\n",
       "      <td>Tuesday</td>\n",
       "    </tr>\n",
       "    <tr>\n",
       "      <th>3220</th>\n",
       "      <td>2023-07-12</td>\n",
       "      <td>30391.646484</td>\n",
       "      <td>Wednesday</td>\n",
       "    </tr>\n",
       "    <tr>\n",
       "      <th>3221</th>\n",
       "      <td>2023-07-13</td>\n",
       "      <td>31476.048828</td>\n",
       "      <td>Thursday</td>\n",
       "    </tr>\n",
       "    <tr>\n",
       "      <th>3222</th>\n",
       "      <td>2023-07-14</td>\n",
       "      <td>30334.068359</td>\n",
       "      <td>Friday</td>\n",
       "    </tr>\n",
       "    <tr>\n",
       "      <th>3223</th>\n",
       "      <td>2023-07-15</td>\n",
       "      <td>30311.033203</td>\n",
       "      <td>Saturday</td>\n",
       "    </tr>\n",
       "  </tbody>\n",
       "</table>\n",
       "</div>"
      ],
      "text/plain": [
       "           Date         Close        Day\n",
       "3219 2023-07-11  30620.951172    Tuesday\n",
       "3220 2023-07-12  30391.646484  Wednesday\n",
       "3221 2023-07-13  31476.048828   Thursday\n",
       "3222 2023-07-14  30334.068359     Friday\n",
       "3223 2023-07-15  30311.033203   Saturday"
      ]
     },
     "execution_count": 13,
     "metadata": {},
     "output_type": "execute_result"
    }
   ],
   "source": [
    "data.tail()"
   ]
  },
  {
   "cell_type": "code",
   "execution_count": 14,
   "id": "ed732e62",
   "metadata": {},
   "outputs": [],
   "source": [
    "day_stats = data.groupby('Day')['Close'].agg(['mean', 'median', 'std']).reset_index()"
   ]
  },
  {
   "cell_type": "code",
   "execution_count": 15,
   "id": "703eddd4",
   "metadata": {},
   "outputs": [],
   "source": [
    "fig = go.Figure()\n",
    "\n",
    "fig.add_trace(go.Bar(x = day_stats['Day'], y = day_stats['mean'], name = 'Mean'))\n",
    "fig.add_trace(go.Bar(x = day_stats['Day'], y = day_stats['median'], name = 'Median'))\n",
    "fig.add_trace(go.Bar(x = day_stats['Day'], y = day_stats['std'], name = 'Standard Deviation'))\n",
    "fig.update_layout(title = 'Bitcoin Price Analysis Day wise', xaxis_title = 'Day', yaxis_title = 'Bitcoin Price')\n",
    "# fig.show()\n",
    "# Set the mathjax configuration to None\n",
    "kaleido_scope = kaleido.scopes.plotly.PlotlyScope(mathjax=None)\n",
    "\n",
    "# Save the plot as an image\n",
    "pio.write_image(fig, \"stats.png\", engine = \"kaleido\")"
   ]
  },
  {
   "cell_type": "markdown",
   "id": "de0b94d8",
   "metadata": {},
   "source": [
    "![Plot](stats.png)"
   ]
  },
  {
   "cell_type": "markdown",
   "id": "116b7e95",
   "metadata": {},
   "source": [
    "Let's analyze the trends and seasonal patterns of the Instagram reach"
   ]
  },
  {
   "cell_type": "code",
   "execution_count": 16,
   "id": "54e3666f",
   "metadata": {},
   "outputs": [
    {
     "data": {
      "text/plain": [
       "<Figure size 640x480 with 0 Axes>"
      ]
     },
     "metadata": {},
     "output_type": "display_data"
    }
   ],
   "source": [
    "from plotly.tools import mpl_to_plotly\n",
    "import matplotlib.pyplot as plt\n",
    "from statsmodels.tsa.seasonal import seasonal_decompose\n",
    "\n",
    "\n",
    "result = seasonal_decompose(data['Close'], \n",
    "                            model='multiplicative', \n",
    "                            period=100)\n",
    "\n",
    "fig = plt.figure()\n",
    "fig = result.plot()\n",
    "\n",
    "fig = mpl_to_plotly(fig)\n",
    "# Set the mathjax configuration to None\n",
    "kaleido_scope = kaleido.scopes.plotly.PlotlyScope(mathjax=None)\n",
    "\n",
    "# Save the plot as an image\n",
    "pio.write_image(fig, \"diag.png\", engine = \"kaleido\")"
   ]
  },
  {
   "cell_type": "markdown",
   "id": "5eafc386",
   "metadata": {},
   "source": [
    "![Plot](diag.png)"
   ]
  },
  {
   "cell_type": "markdown",
   "id": "29338a8e",
   "metadata": {},
   "source": [
    "It shows seasonal pattern, so we can use ARIMA model to predict the reach of the Instagram account. We need to find the values of p,d and q, in order to do so."
   ]
  },
  {
   "cell_type": "markdown",
   "id": "9d836b9b",
   "metadata": {},
   "source": [
    "To find the value of p, we can use partial autocorrelation plot and to find q we can use autocorrelation plot\n",
    "\n",
    "#### Autocorrelation and Partial Autocorrelation\n",
    "- Identification of an AR model is often best done with the PACF.\n",
    "   - For an AR model, the theoretical PACF “shuts off” past the order of the model. The phrase “shuts off” means that in theory the partial autocorrelations are equal to 0 beyond that point. Put another way, the number of non-zero partial autocorrelations gives the order of the AR model. By the “order of the model” we mean the most extreme lag of x that is used as a predictor.\n",
    "- Identification of an MA model is often best done with the ACF rather than the PACF.\n",
    "  - For an MA model, the theoretical ACF does not shut off, but instead tapers toward 0 in some manner. A clearer pattern for an MA model is in the ACF. The ACF will have non-zero autocorrelations only at lags involved in the model.\n",
    "  \n",
    "p = AR model lags \n",
    "d = differencing \n",
    "q = MA lags"
   ]
  },
  {
   "cell_type": "code",
   "execution_count": 17,
   "id": "04433946",
   "metadata": {},
   "outputs": [
    {
     "data": {
      "image/png": "[encoded data removed]",
      "text/plain": [
       "<Figure size 1000x800 with 2 Axes>"
      ]
     },
     "metadata": {},
     "output_type": "display_data"
    }
   ],
   "source": [
    "from statsmodels.graphics.tsaplots import plot_acf, plot_pacf\n",
    "\n",
    "fig = plt.figure(figsize=(10, 8))\n",
    "\n",
    "ax1 = fig.add_subplot(211)\n",
    "plot_acf(data['Close'], lags=100, ax=ax1)\n",
    "\n",
    "ax2 = fig.add_subplot(212)\n",
    "plot_pacf(data['Close'], lags=100, ax=ax2)\n",
    "\n",
    "plt.show()"
   ]
  },
  {
   "cell_type": "markdown",
   "id": "152366fb",
   "metadata": {},
   "source": [
    "## 4. Model Training\n",
    "\n",
    "\n",
    "## Introduction to ARIMA Model\n",
    "\n",
    "The ARIMA model is a popular time series forecasting technique that combines three key components: autoregression (AR), differencing (I), and moving average (MA). It is a powerful tool for analyzing and predicting time series data.\n",
    "\n",
    "### Autoregression (AR)\n",
    "\n",
    "The autoregressive component of ARIMA, denoted by AR(p), captures the relationship between an observation and a certain number of lagged observations (i.e., previous values of the time series). The order of autoregression, denoted by 'p', determines the number of lagged observations considered. It helps to identify the underlying patterns and dependencies in the data.\n",
    "\n",
    "### Differencing (I)\n",
    "\n",
    "The differencing component of ARIMA, denoted by I(d), is used to remove the trend or seasonality present in the time series data. It involves subtracting the current observation from a lagged observation at a specific time interval. The order of differencing, denoted by 'd', determines the number of differencing steps required to make the series stationary.\n",
    "\n",
    "### Moving Average (MA)\n",
    "\n",
    "The moving average component of ARIMA, denoted by MA(q), considers the dependency between an observation and a residual error from a moving average model applied to lagged observations. The order of the moving average, denoted by 'q', determines the number of lagged forecast errors considered.\n",
    "\n",
    "### ARIMA Notation\n",
    "\n",
    "The ARIMA model is denoted as ARIMA(p, d, q), where:\n",
    "- 'p' represents the order of the autoregressive component (AR).\n",
    "- 'd' represents the order of differencing (I).\n",
    "- 'q' represents the order of the moving average component (MA).\n",
    "\n",
    "### Applying ARIMA Model\n",
    "\n",
    "To apply the ARIMA model, follow these steps:\n",
    "1. Visualize the time series data to identify any trends, seasonality, or irregular patterns.\n",
    "2. Determine the order of differencing required to make the series stationary.\n",
    "3. Identify the appropriate order of autoregression (AR) and moving average (MA) based on the autocorrelation and partial autocorrelation plots.\n",
    "4. Fit the ARIMA model to the differenced time series data.\n",
    "5. Validate the model by analyzing the residuals and performing statistical tests.\n",
    "6. Use the fitted model for forecasting future values."
   ]
  },
  {
   "cell_type": "code",
   "execution_count": 18,
   "id": "50b65fb2",
   "metadata": {},
   "outputs": [
    {
     "name": "stdout",
     "output_type": "stream",
     "text": [
      "                               SARIMAX Results                                \n",
      "==============================================================================\n",
      "Dep. Variable:                  Close   No. Observations:                 3224\n",
      "Model:                 ARIMA(3, 1, 1)   Log Likelihood              -26056.995\n",
      "Date:                Sat, 15 Jul 2023   AIC                          52123.989\n",
      "Time:                        20:48:34   BIC                          52154.379\n",
      "Sample:                             0   HQIC                         52134.881\n",
      "                               - 3224                                         \n",
      "Covariance Type:                  opg                                         \n",
      "==============================================================================\n",
      "                 coef    std err          z      P>|z|      [0.025      0.975]\n",
      "------------------------------------------------------------------------------\n",
      "ar.L1          0.6010      0.149      4.042      0.000       0.310       0.892\n",
      "ar.L2          0.0253      0.011      2.372      0.018       0.004       0.046\n",
      "ar.L3          0.0213      0.011      1.864      0.062      -0.001       0.044\n",
      "ma.L1         -0.6270      0.149     -4.215      0.000      -0.919      -0.335\n",
      "sigma2      6.176e+05   5102.795    121.027      0.000    6.08e+05    6.28e+05\n",
      "===================================================================================\n",
      "Ljung-Box (L1) (Q):                   0.00   Jarque-Bera (JB):             37710.38\n",
      "Prob(Q):                              0.98   Prob(JB):                         0.00\n",
      "Heteroskedasticity (H):             827.22   Skew:                            -0.23\n",
      "Prob(H) (two-sided):                  0.00   Kurtosis:                        19.75\n",
      "===================================================================================\n",
      "\n",
      "Warnings:\n",
      "[1] Covariance matrix calculated using the outer product of gradients (complex-step).\n"
     ]
    }
   ],
   "source": [
    "p, d, q = 3, 1, 1\n",
    "from statsmodels.tsa.arima.model import ARIMA\n",
    "model_a = ARIMA(data['Close'], order=(p, d, q))\n",
    "model_a = model_a.fit()\n",
    "print(model_a.summary())"
   ]
  },
  {
   "cell_type": "markdown",
   "id": "2a3c832e",
   "metadata": {},
   "source": [
    "## 5. Prediction and Visual Inspection\n",
    "\n",
    "Now, the trained ARIMA model is utilized for predicting the next 100 values. And then they are visualized along with the original dataset to compare the reach accuracy and continuity."
   ]
  },
  {
   "cell_type": "code",
   "execution_count": 22,
   "id": "a6d67a6d",
   "metadata": {},
   "outputs": [],
   "source": [
    "pred = model_a.predict(len(data) - 50, len(data) + 100)\n",
    "fig = go.Figure()\n",
    "fig.add_trace(go.Scatter(x = data.index, y = data['Close'], mode = 'lines', name = 'Bitcoin Actual Prices'))\n",
    "fig.add_trace(go.Scatter(x = pred.index, y = pred, mode = 'lines', name = 'Bitcoin Predictions'))\n",
    "fig.update_layout(title = 'Bitcoin Actual Values vs Predictions', xaxis_title = 'Date', yaxis_title = 'Closing Price')\n",
    "# fig.show()\n",
    "# Set the mathjax configuration to None\n",
    "kaleido_scope = kaleido.scopes.plotly.PlotlyScope(mathjax=None)\n",
    "\n",
    "# Save the plot as an image\n",
    "pio.write_image(fig, \"pred1.png\", engine = \"kaleido\")"
   ]
  },
  {
   "cell_type": "markdown",
   "id": "e4db1911",
   "metadata": {},
   "source": [
    "![Plot](pred1.png)"
   ]
  }
 ],
 "metadata": {
  "kernelspec": {
   "display_name": "Python 3 (ipykernel)",
   "language": "python",
   "name": "python3"
  },
  "language_info": {
   "codemirror_mode": {
    "name": "ipython",
    "version": 3
   },
   "file_extension": ".py",
   "mimetype": "text/x-python",
   "name": "python",
   "nbconvert_exporter": "python",
   "pygments_lexer": "ipython3",
   "version": "3.11.4"
  }
 },
 "nbformat": 4,
 "nbformat_minor": 5
}
